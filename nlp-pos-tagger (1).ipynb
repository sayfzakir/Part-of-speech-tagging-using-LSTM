{
 "cells": [
  {
   "cell_type": "code",
   "execution_count": 1,
   "id": "choice-visit",
   "metadata": {
    "execution": {
     "iopub.execute_input": "2021-10-27T17:06:11.247041Z",
     "iopub.status.busy": "2021-10-27T17:06:11.245510Z",
     "iopub.status.idle": "2021-10-27T17:06:17.489290Z",
     "shell.execute_reply": "2021-10-27T17:06:17.488303Z",
     "shell.execute_reply.started": "2021-10-27T16:59:49.618985Z"
    },
    "papermill": {
     "duration": 6.268805,
     "end_time": "2021-10-27T17:06:17.489481",
     "exception": false,
     "start_time": "2021-10-27T17:06:11.220676",
     "status": "completed"
    },
    "tags": []
   },
   "outputs": [],
   "source": [
    "import warnings\n",
    "warnings.filterwarnings(\"ignore\")\n",
    "\n",
    "import nltk\n",
    "from nltk import word_tokenize\n",
    "from nltk.corpus import conll2000 as cl\n",
    "from nltk.corpus import brown as br\n",
    "\n",
    "import pprint\n",
    "\n",
    "from sklearn.model_selection import train_test_split\n",
    "import tensorflow as tf\n",
    "from tensorflow.keras.preprocessing.text import Tokenizer\n",
    "from tensorflow.keras.preprocessing.sequence import pad_sequences\n",
    "from tensorflow.keras.models import Sequential\n",
    "from tensorflow.keras.layers import Embedding, LSTM, Dense\n",
    "from tensorflow.keras.callbacks import ModelCheckpoint, EarlyStopping\n",
    "from tensorflow.keras.utils import to_categorical\n",
    "\n",
    "import numpy as np\n",
    "import seaborn as sns\n",
    "from matplotlib import pyplot as plt"
   ]
  },
  {
   "cell_type": "code",
   "execution_count": 2,
   "id": "secure-things",
   "metadata": {
    "execution": {
     "iopub.execute_input": "2021-10-27T17:06:17.535839Z",
     "iopub.status.busy": "2021-10-27T17:06:17.535164Z",
     "iopub.status.idle": "2021-10-27T17:06:23.156779Z",
     "shell.execute_reply": "2021-10-27T17:06:23.157511Z",
     "shell.execute_reply.started": "2021-10-27T16:59:55.871483Z"
    },
    "papermill": {
     "duration": 5.646737,
     "end_time": "2021-10-27T17:06:23.157699",
     "exception": false,
     "start_time": "2021-10-27T17:06:17.510962",
     "status": "completed"
    },
    "scrolled": false,
    "tags": []
   },
   "outputs": [
    {
     "name": "stdout",
     "output_type": "stream",
     "text": [
      "[('Confidence', 'NOUN'),\n",
      " ('in', 'ADP'),\n",
      " ('the', 'DET'),\n",
      " ('pound', 'NOUN'),\n",
      " ('is', 'VERB'),\n",
      " ('widely', 'ADV'),\n",
      " ('expected', 'VERB'),\n",
      " ('to', 'PRT'),\n",
      " ('take', 'VERB'),\n",
      " ('another', 'DET'),\n",
      " ('sharp', 'ADJ'),\n",
      " ('dive', 'NOUN'),\n",
      " ('if', 'ADP'),\n",
      " ('trade', 'NOUN'),\n",
      " ('figures', 'NOUN'),\n",
      " ('for', 'ADP'),\n",
      " ('September', 'NOUN'),\n",
      " (',', '.'),\n",
      " ('due', 'ADJ'),\n",
      " ('for', 'ADP'),\n",
      " ('release', 'NOUN'),\n",
      " ('tomorrow', 'NOUN'),\n",
      " (',', '.'),\n",
      " ('fail', 'VERB'),\n",
      " ('to', 'PRT'),\n",
      " ('show', 'VERB'),\n",
      " ('a', 'DET'),\n",
      " ('substantial', 'ADJ'),\n",
      " ('improvement', 'NOUN'),\n",
      " ('from', 'ADP'),\n",
      " ('July', 'NOUN'),\n",
      " ('and', 'CONJ'),\n",
      " ('August', 'NOUN'),\n",
      " (\"'s\", 'PRT'),\n",
      " ('near-record', 'ADJ'),\n",
      " ('deficits', 'NOUN'),\n",
      " ('.', '.')]\n",
      "68288\n"
     ]
    }
   ],
   "source": [
    "tagged_sentences = cl.tagged_sents(tagset = 'universal') + br.tagged_sents(tagset = 'universal') \n",
    "\n",
    "pprint.pprint(tagged_sentences[0])\n",
    "print(len(tagged_sentences))"
   ]
  },
  {
   "cell_type": "code",
   "execution_count": 3,
   "id": "younger-luxury",
   "metadata": {
    "execution": {
     "iopub.execute_input": "2021-10-27T17:06:23.208724Z",
     "iopub.status.busy": "2021-10-27T17:06:23.208046Z",
     "iopub.status.idle": "2021-10-27T17:06:23.210607Z",
     "shell.execute_reply": "2021-10-27T17:06:23.210174Z",
     "shell.execute_reply.started": "2021-10-27T17:00:01.808400Z"
    },
    "papermill": {
     "duration": 0.030778,
     "end_time": "2021-10-27T17:06:23.210719",
     "exception": false,
     "start_time": "2021-10-27T17:06:23.179941",
     "status": "completed"
    },
    "tags": []
   },
   "outputs": [],
   "source": [
    "def untag_sentences(tagged_sentences):\n",
    "    X = [] # store input sequence\n",
    "    Y = [] # store output sequence\n",
    "    \n",
    "    for sentence in tagged_sentences:\n",
    "        X_sentence = []\n",
    "        Y_sentence = []\n",
    "        for entity in sentence:         \n",
    "            X_sentence.append(entity[0])  # entity[0] contains the word\n",
    "            Y_sentence.append(entity[1])  # entity[1] contains corresponding tag\n",
    "\n",
    "        X.append(X_sentence)\n",
    "        Y.append(Y_sentence)\n",
    "    \n",
    "    num_words = len(set([word.lower() for sentence in X for word in sentence]))\n",
    "    num_tags   = len(set([word.lower() for sentence in Y for word in sentence]))\n",
    "\n",
    "    print(set([word for sentence in Y for word in sentence]))\n",
    "    print(\"Total number of tagged sentences: {}\".format(len(X)))\n",
    "    print(\"Vocabulary size: {}\".format(num_words))\n",
    "    print(\"Total number of tags: {}\".format(num_tags))\n",
    "    \n",
    "    return X, Y"
   ]
  },
  {
   "cell_type": "code",
   "execution_count": 4,
   "id": "vocational-value",
   "metadata": {
    "execution": {
     "iopub.execute_input": "2021-10-27T17:06:23.255191Z",
     "iopub.status.busy": "2021-10-27T17:06:23.254409Z",
     "iopub.status.idle": "2021-10-27T17:06:29.417571Z",
     "shell.execute_reply": "2021-10-27T17:06:29.418281Z",
     "shell.execute_reply.started": "2021-10-27T17:00:01.819622Z"
    },
    "papermill": {
     "duration": 6.18757,
     "end_time": "2021-10-27T17:06:29.418487",
     "exception": false,
     "start_time": "2021-10-27T17:06:23.230917",
     "status": "completed"
    },
    "tags": []
   },
   "outputs": [
    {
     "name": "stdout",
     "output_type": "stream",
     "text": [
      "{'NOUN', 'VERB', 'ADP', '.', 'CONJ', 'NUM', 'ADV', 'ADJ', 'PRT', 'PRON', 'DET', 'X'}\n",
      "Total number of tagged sentences: 68288\n",
      "Vocabulary size: 56952\n",
      "Total number of tags: 12\n"
     ]
    }
   ],
   "source": [
    "X, Y = untag_sentences(tagged_sentences)"
   ]
  },
  {
   "cell_type": "code",
   "execution_count": 5,
   "id": "colored-herald",
   "metadata": {
    "execution": {
     "iopub.execute_input": "2021-10-27T17:06:29.466689Z",
     "iopub.status.busy": "2021-10-27T17:06:29.466106Z",
     "iopub.status.idle": "2021-10-27T17:06:29.469186Z",
     "shell.execute_reply": "2021-10-27T17:06:29.469790Z",
     "shell.execute_reply.started": "2021-10-27T17:00:08.008301Z"
    },
    "papermill": {
     "duration": 0.029993,
     "end_time": "2021-10-27T17:06:29.469947",
     "exception": false,
     "start_time": "2021-10-27T17:06:29.439954",
     "status": "completed"
    },
    "tags": []
   },
   "outputs": [
    {
     "name": "stdout",
     "output_type": "stream",
     "text": [
      "sample X:  ['Confidence', 'in', 'the', 'pound', 'is', 'widely', 'expected', 'to', 'take', 'another', 'sharp', 'dive', 'if', 'trade', 'figures', 'for', 'September', ',', 'due', 'for', 'release', 'tomorrow', ',', 'fail', 'to', 'show', 'a', 'substantial', 'improvement', 'from', 'July', 'and', 'August', \"'s\", 'near-record', 'deficits', '.'] \n",
      "\n",
      "sample Y:  ['NOUN', 'ADP', 'DET', 'NOUN', 'VERB', 'ADV', 'VERB', 'PRT', 'VERB', 'DET', 'ADJ', 'NOUN', 'ADP', 'NOUN', 'NOUN', 'ADP', 'NOUN', '.', 'ADJ', 'ADP', 'NOUN', 'NOUN', '.', 'VERB', 'PRT', 'VERB', 'DET', 'ADJ', 'NOUN', 'ADP', 'NOUN', 'CONJ', 'NOUN', 'PRT', 'ADJ', 'NOUN', '.'] \n",
      "\n",
      "Length of first input sequence  : 37\n",
      "Length of first output sequence : 37\n"
     ]
    }
   ],
   "source": [
    "print('sample X: ', X[0], '\\n')\n",
    "print('sample Y: ', Y[0], '\\n')\n",
    "\n",
    "print(\"Length of first input sequence  : {}\".format(len(X[0])))\n",
    "print(\"Length of first output sequence : {}\".format(len(Y[0])))"
   ]
  },
  {
   "cell_type": "code",
   "execution_count": 6,
   "id": "authorized-commons",
   "metadata": {
    "execution": {
     "iopub.execute_input": "2021-10-27T17:06:29.550700Z",
     "iopub.status.busy": "2021-10-27T17:06:29.530094Z",
     "iopub.status.idle": "2021-10-27T17:06:32.886155Z",
     "shell.execute_reply": "2021-10-27T17:06:32.885666Z",
     "shell.execute_reply.started": "2021-10-27T17:00:08.017813Z"
    },
    "papermill": {
     "duration": 3.394593,
     "end_time": "2021-10-27T17:06:32.886289",
     "exception": false,
     "start_time": "2021-10-27T17:06:29.491696",
     "status": "completed"
    },
    "tags": []
   },
   "outputs": [],
   "source": [
    "word_tokenizer = Tokenizer()\n",
    "word_tokenizer.fit_on_texts(X)\n",
    "X_encoded = word_tokenizer.texts_to_sequences(X)\n",
    "\n",
    "tag_tokenizer = Tokenizer()\n",
    "tag_tokenizer.fit_on_texts(Y)\n",
    "TAGS = {v: k for k, v in tag_tokenizer.word_index.items()}\n",
    "Y_encoded = tag_tokenizer.texts_to_sequences(Y)"
   ]
  },
  {
   "cell_type": "code",
   "execution_count": 7,
   "id": "israeli-century",
   "metadata": {
    "execution": {
     "iopub.execute_input": "2021-10-27T17:06:32.935115Z",
     "iopub.status.busy": "2021-10-27T17:06:32.934301Z",
     "iopub.status.idle": "2021-10-27T17:06:32.939618Z",
     "shell.execute_reply": "2021-10-27T17:06:32.939158Z",
     "shell.execute_reply.started": "2021-10-27T17:00:11.423061Z"
    },
    "papermill": {
     "duration": 0.031366,
     "end_time": "2021-10-27T17:06:32.939730",
     "exception": false,
     "start_time": "2021-10-27T17:06:32.908364",
     "status": "completed"
    },
    "tags": []
   },
   "outputs": [
    {
     "name": "stdout",
     "output_type": "stream",
     "text": [
      "{1: 'noun',\n",
      " 2: 'verb',\n",
      " 3: '.',\n",
      " 4: 'adp',\n",
      " 5: 'det',\n",
      " 6: 'adj',\n",
      " 7: 'adv',\n",
      " 8: 'pron',\n",
      " 9: 'conj',\n",
      " 10: 'prt',\n",
      " 11: 'num',\n",
      " 12: 'x'}\n"
     ]
    }
   ],
   "source": [
    "pprint.pprint(TAGS)"
   ]
  },
  {
   "cell_type": "code",
   "execution_count": 8,
   "id": "convertible-training",
   "metadata": {
    "execution": {
     "iopub.execute_input": "2021-10-27T17:06:33.006275Z",
     "iopub.status.busy": "2021-10-27T17:06:33.005373Z",
     "iopub.status.idle": "2021-10-27T17:06:33.012203Z",
     "shell.execute_reply": "2021-10-27T17:06:33.011598Z",
     "shell.execute_reply.started": "2021-10-27T17:00:11.434705Z"
    },
    "papermill": {
     "duration": 0.050527,
     "end_time": "2021-10-27T17:06:33.012355",
     "exception": false,
     "start_time": "2021-10-27T17:06:32.961828",
     "status": "completed"
    },
    "tags": []
   },
   "outputs": [
    {
     "name": "stdout",
     "output_type": "stream",
     "text": [
      "** Raw data point ** \n",
      " ---------------------------------------------------------------------------------------------------- \n",
      "\n",
      "X:  ['Confidence', 'in', 'the', 'pound', 'is', 'widely', 'expected', 'to', 'take', 'another', 'sharp', 'dive', 'if', 'trade', 'figures', 'for', 'September', ',', 'due', 'for', 'release', 'tomorrow', ',', 'fail', 'to', 'show', 'a', 'substantial', 'improvement', 'from', 'July', 'and', 'August', \"'s\", 'near-record', 'deficits', '.'] \n",
      "\n",
      "Y:  ['NOUN', 'ADP', 'DET', 'NOUN', 'VERB', 'ADV', 'VERB', 'PRT', 'VERB', 'DET', 'ADJ', 'NOUN', 'ADP', 'NOUN', 'NOUN', 'ADP', 'NOUN', '.', 'ADJ', 'ADP', 'NOUN', 'NOUN', '.', 'VERB', 'PRT', 'VERB', 'DET', 'ADJ', 'NOUN', 'ADP', 'NOUN', 'CONJ', 'NOUN', 'PRT', 'ADJ', 'NOUN', '.'] \n",
      "\n",
      "\n",
      "** Encoded data point ** \n",
      " ---------------------------------------------------------------------------------------------------- \n",
      "\n",
      "X:  [1871, 8, 1, 3113, 11, 1742, 375, 6, 162, 150, 1402, 4652, 58, 595, 822, 10, 1168, 2, 518, 10, 2542, 1925, 2, 3268, 6, 354, 7, 1554, 2274, 26, 1289, 5, 1233, 64, 23383, 19006, 3] \n",
      "\n",
      "Y:  [1, 4, 5, 1, 2, 7, 2, 10, 2, 5, 6, 1, 4, 1, 1, 4, 1, 3, 6, 4, 1, 1, 3, 2, 10, 2, 5, 6, 1, 4, 1, 9, 1, 10, 6, 1, 3] \n",
      "\n",
      "length X encoded:  37 \n",
      "\n",
      "length Y encoded:  37 \n",
      "\n"
     ]
    }
   ],
   "source": [
    "print(\"** Raw data point **\", \"\\n\", \"-\"*100, \"\\n\")\n",
    "print('X: ', X[0], '\\n')\n",
    "print('Y: ', Y[0], '\\n')\n",
    "\n",
    "print()\n",
    "print(\"** Encoded data point **\", \"\\n\", \"-\"*100, \"\\n\")\n",
    "print('X: ', X_encoded[0], '\\n')\n",
    "print('Y: ', Y_encoded[0], '\\n')\n",
    "print('length X encoded: ', len(X_encoded[0]), '\\n')\n",
    "print('length Y encoded: ', len(Y_encoded[0]), '\\n')"
   ]
  },
  {
   "cell_type": "code",
   "execution_count": 9,
   "id": "brave-origin",
   "metadata": {
    "execution": {
     "iopub.execute_input": "2021-10-27T17:06:33.079535Z",
     "iopub.status.busy": "2021-10-27T17:06:33.078295Z",
     "iopub.status.idle": "2021-10-27T17:06:34.282218Z",
     "shell.execute_reply": "2021-10-27T17:06:34.282719Z",
     "shell.execute_reply.started": "2021-10-27T17:00:11.451337Z"
    },
    "papermill": {
     "duration": 1.2458,
     "end_time": "2021-10-27T17:06:34.282884",
     "exception": false,
     "start_time": "2021-10-27T17:06:33.037084",
     "status": "completed"
    },
    "tags": []
   },
   "outputs": [
    {
     "name": "stdout",
     "output_type": "stream",
     "text": [
      "Length of longest sentence: 180\n"
     ]
    }
   ],
   "source": [
    "lengths = [len(seq) for seq in X_encoded]\n",
    "print(\"Length of longest sentence: {}\".format(max(lengths)))\n",
    "\n",
    "max_length = max(lengths)\n",
    "trunc_type = 'post'\n",
    "pad_type = 'post'\n",
    "\n",
    "X_padded = pad_sequences(X_encoded, maxlen=max_length, truncating=trunc_type, padding=pad_type)\n",
    "Y_padded = pad_sequences(Y_encoded, maxlen=max_length, truncating=trunc_type, padding=pad_type, value = -1)"
   ]
  },
  {
   "cell_type": "code",
   "execution_count": 10,
   "id": "coupled-friend",
   "metadata": {
    "execution": {
     "iopub.execute_input": "2021-10-27T17:06:34.331365Z",
     "iopub.status.busy": "2021-10-27T17:06:34.330306Z",
     "iopub.status.idle": "2021-10-27T17:06:34.796760Z",
     "shell.execute_reply": "2021-10-27T17:06:34.796209Z",
     "shell.execute_reply.started": "2021-10-27T17:00:12.739808Z"
    },
    "papermill": {
     "duration": 0.491852,
     "end_time": "2021-10-27T17:06:34.796887",
     "exception": false,
     "start_time": "2021-10-27T17:06:34.305035",
     "status": "completed"
    },
    "tags": []
   },
   "outputs": [],
   "source": [
    "Y = to_categorical(Y_padded)"
   ]
  },
  {
   "cell_type": "code",
   "execution_count": 11,
   "id": "certain-emperor",
   "metadata": {
    "execution": {
     "iopub.execute_input": "2021-10-27T17:06:34.848983Z",
     "iopub.status.busy": "2021-10-27T17:06:34.847940Z",
     "iopub.status.idle": "2021-10-27T17:06:35.086096Z",
     "shell.execute_reply": "2021-10-27T17:06:35.085546Z",
     "shell.execute_reply.started": "2021-10-27T17:00:13.218769Z"
    },
    "papermill": {
     "duration": 0.265551,
     "end_time": "2021-10-27T17:06:35.086222",
     "exception": false,
     "start_time": "2021-10-27T17:06:34.820671",
     "status": "completed"
    },
    "tags": []
   },
   "outputs": [],
   "source": [
    "TEST_SIZE = 0.15\n",
    "X_train, X_validation, Y_train, Y_validation = train_test_split(X_padded, Y, test_size=TEST_SIZE, shuffle=False)\n",
    "\n",
    "VALID_SIZE = 0.4\n",
    "X_validation, X_test, Y_validation, Y_test = train_test_split(X_validation, Y_validation, test_size=VALID_SIZE, shuffle=False)"
   ]
  },
  {
   "cell_type": "code",
   "execution_count": 12,
   "id": "dimensional-yahoo",
   "metadata": {
    "execution": {
     "iopub.execute_input": "2021-10-27T17:06:35.143100Z",
     "iopub.status.busy": "2021-10-27T17:06:35.142212Z",
     "iopub.status.idle": "2021-10-27T17:06:35.148841Z",
     "shell.execute_reply": "2021-10-27T17:06:35.148180Z",
     "shell.execute_reply.started": "2021-10-27T17:00:13.464663Z"
    },
    "papermill": {
     "duration": 0.039123,
     "end_time": "2021-10-27T17:06:35.149016",
     "exception": false,
     "start_time": "2021-10-27T17:06:35.109893",
     "status": "completed"
    },
    "tags": []
   },
   "outputs": [
    {
     "name": "stdout",
     "output_type": "stream",
     "text": [
      "TRAINING DATA\n",
      "Shape of input sequences: (58044, 180)\n",
      "Shape of output sequences: (58044, 180, 13)\n",
      "--------------------------------------------------\n",
      "VALIDATION DATA\n",
      "Shape of input sequences: (6146, 180)\n",
      "Shape of output sequences: (6146, 180, 13)\n",
      "--------------------------------------------------\n",
      "TESTING DATA\n",
      "Shape of input sequences: (4098, 180)\n",
      "Shape of output sequences: (4098, 180, 13)\n"
     ]
    }
   ],
   "source": [
    "# print number of samples in each set\n",
    "print(\"TRAINING DATA\")\n",
    "print('Shape of input sequences: {}'.format(X_train.shape))\n",
    "print('Shape of output sequences: {}'.format(Y_train.shape))\n",
    "print(\"-\"*50)\n",
    "print(\"VALIDATION DATA\")\n",
    "print('Shape of input sequences: {}'.format(X_validation.shape))\n",
    "print('Shape of output sequences: {}'.format(Y_validation.shape))\n",
    "print(\"-\"*50)\n",
    "print(\"TESTING DATA\")\n",
    "print('Shape of input sequences: {}'.format(X_test.shape))\n",
    "print('Shape of output sequences: {}'.format(Y_test.shape))"
   ]
  },
  {
   "cell_type": "code",
   "execution_count": 13,
   "id": "demanding-heather",
   "metadata": {
    "execution": {
     "iopub.execute_input": "2021-10-27T17:06:35.203940Z",
     "iopub.status.busy": "2021-10-27T17:06:35.203287Z",
     "iopub.status.idle": "2021-10-27T17:06:37.985278Z",
     "shell.execute_reply": "2021-10-27T17:06:37.984408Z",
     "shell.execute_reply.started": "2021-10-27T17:00:13.475740Z"
    },
    "papermill": {
     "duration": 2.811031,
     "end_time": "2021-10-27T17:06:37.985436",
     "exception": false,
     "start_time": "2021-10-27T17:06:35.174405",
     "status": "completed"
    },
    "tags": []
   },
   "outputs": [],
   "source": [
    "embedding_dim = 300\n",
    "vocab_size = len(word_tokenizer.word_index) + 1\n",
    "num_classes = Y.shape[2]\n",
    "\n",
    "model = Sequential()\n",
    "model.add(Embedding(vocab_size, embedding_dim, input_length=max_length))\n",
    "model.add(LSTM(64, return_sequences=True))\n",
    "model.add(Dense(32, activation=\"relu\"))\n",
    "model.add(Dense(16, activation=\"relu\"))\n",
    "model.add(Dense(num_classes, activation='softmax'))\n",
    "model_save = ModelCheckpoint('weights.h5', \n",
    "                              save_best_only = True, \n",
    "                              save_weights_only = True,\n",
    "                              monitor = 'val_accuracy', \n",
    "                              mode = 'max', verbose = 1)"
   ]
  },
  {
   "cell_type": "code",
   "execution_count": 14,
   "id": "forward-fraud",
   "metadata": {
    "execution": {
     "iopub.execute_input": "2021-10-27T17:06:38.038150Z",
     "iopub.status.busy": "2021-10-27T17:06:38.037201Z",
     "iopub.status.idle": "2021-10-27T17:06:38.046381Z",
     "shell.execute_reply": "2021-10-27T17:06:38.045944Z",
     "shell.execute_reply.started": "2021-10-27T17:00:16.223851Z"
    },
    "papermill": {
     "duration": 0.037934,
     "end_time": "2021-10-27T17:06:38.046496",
     "exception": false,
     "start_time": "2021-10-27T17:06:38.008562",
     "status": "completed"
    },
    "tags": []
   },
   "outputs": [],
   "source": [
    "optimizer = tf.keras.optimizers.Adam(lr = 0.0001)\n",
    "model.compile(\n",
    "    loss = \"categorical_crossentropy\",\n",
    "    optimizer = optimizer,\n",
    "    metrics = [\"accuracy\"]\n",
    ")"
   ]
  },
  {
   "cell_type": "code",
   "execution_count": 15,
   "id": "closed-queens",
   "metadata": {
    "execution": {
     "iopub.execute_input": "2021-10-27T17:06:38.098037Z",
     "iopub.status.busy": "2021-10-27T17:06:38.095910Z",
     "iopub.status.idle": "2021-10-27T17:06:38.103312Z",
     "shell.execute_reply": "2021-10-27T17:06:38.102887Z",
     "shell.execute_reply.started": "2021-10-27T17:00:16.247723Z"
    },
    "papermill": {
     "duration": 0.034284,
     "end_time": "2021-10-27T17:06:38.103448",
     "exception": false,
     "start_time": "2021-10-27T17:06:38.069164",
     "status": "completed"
    },
    "scrolled": true,
    "tags": []
   },
   "outputs": [
    {
     "name": "stdout",
     "output_type": "stream",
     "text": [
      "Model: \"sequential\"\n",
      "_________________________________________________________________\n",
      "Layer (type)                 Output Shape              Param #   \n",
      "=================================================================\n",
      "embedding (Embedding)        (None, 180, 300)          17085900  \n",
      "_________________________________________________________________\n",
      "lstm (LSTM)                  (None, 180, 64)           93440     \n",
      "_________________________________________________________________\n",
      "dense (Dense)                (None, 180, 32)           2080      \n",
      "_________________________________________________________________\n",
      "dense_1 (Dense)              (None, 180, 16)           528       \n",
      "_________________________________________________________________\n",
      "dense_2 (Dense)              (None, 180, 13)           221       \n",
      "=================================================================\n",
      "Total params: 17,182,169\n",
      "Trainable params: 17,182,169\n",
      "Non-trainable params: 0\n",
      "_________________________________________________________________\n"
     ]
    }
   ],
   "source": [
    "model.summary()"
   ]
  },
  {
   "cell_type": "code",
   "execution_count": 16,
   "id": "weird-night",
   "metadata": {
    "execution": {
     "iopub.execute_input": "2021-10-27T17:06:38.154826Z",
     "iopub.status.busy": "2021-10-27T17:06:38.154246Z",
     "iopub.status.idle": "2021-10-27T17:11:02.594791Z",
     "shell.execute_reply": "2021-10-27T17:11:02.595242Z",
     "shell.execute_reply.started": "2021-10-27T17:00:16.268465Z"
    },
    "papermill": {
     "duration": 264.469064,
     "end_time": "2021-10-27T17:11:02.595479",
     "exception": false,
     "start_time": "2021-10-27T17:06:38.126415",
     "status": "completed"
    },
    "scrolled": false,
    "tags": []
   },
   "outputs": [
    {
     "name": "stdout",
     "output_type": "stream",
     "text": [
      "Epoch 1/15\n",
      "454/454 [==============================] - 126s 263ms/step - loss: 1.7004 - accuracy: 0.4427 - val_loss: 0.2327 - val_accuracy: 0.9249\n",
      "\n",
      "Epoch 00001: val_accuracy improved from -inf to 0.92493, saving model to weights.h5\n",
      "Epoch 2/15\n",
      "454/454 [==============================] - 107s 237ms/step - loss: 0.2895 - accuracy: 0.9098 - val_loss: 0.1864 - val_accuracy: 0.9413\n",
      "\n",
      "Epoch 00002: val_accuracy improved from 0.92493 to 0.94128, saving model to weights.h5\n",
      "Epoch 3/15\n",
      "454/454 [==============================] - 119s 261ms/step - loss: 0.2244 - accuracy: 0.9358 - val_loss: 0.1142 - val_accuracy: 0.9687\n",
      "\n",
      "Epoch 00003: val_accuracy improved from 0.94128 to 0.96866, saving model to weights.h5\n",
      "Epoch 4/15\n",
      "454/454 [==============================] - 102s 224ms/step - loss: 0.1226 - accuracy: 0.9650 - val_loss: 0.0572 - val_accuracy: 0.9838\n",
      "\n",
      "Epoch 00004: val_accuracy improved from 0.96866 to 0.98380, saving model to weights.h5\n",
      "Epoch 5/15\n",
      "454/454 [==============================] - 102s 224ms/step - loss: 0.0606 - accuracy: 0.9828 - val_loss: 0.0329 - val_accuracy: 0.9922\n",
      "\n",
      "Epoch 00005: val_accuracy improved from 0.98380 to 0.99216, saving model to weights.h5\n",
      "Epoch 6/15\n",
      "454/454 [==============================] - 102s 225ms/step - loss: 0.0346 - accuracy: 0.9918 - val_loss: 0.0238 - val_accuracy: 0.9937\n",
      "\n",
      "Epoch 00006: val_accuracy improved from 0.99216 to 0.99367, saving model to weights.h5\n",
      "Epoch 7/15\n",
      "454/454 [==============================] - 102s 225ms/step - loss: 0.0239 - accuracy: 0.9938 - val_loss: 0.0197 - val_accuracy: 0.9943\n",
      "\n",
      "Epoch 00007: val_accuracy improved from 0.99367 to 0.99431, saving model to weights.h5\n",
      "Epoch 8/15\n",
      "454/454 [==============================] - 106s 234ms/step - loss: 0.0188 - accuracy: 0.9946 - val_loss: 0.0176 - val_accuracy: 0.9946\n",
      "\n",
      "Epoch 00008: val_accuracy improved from 0.99431 to 0.99464, saving model to weights.h5\n",
      "Epoch 9/15\n",
      "454/454 [==============================] - 101s 223ms/step - loss: 0.0161 - accuracy: 0.9951 - val_loss: 0.0163 - val_accuracy: 0.9948\n",
      "\n",
      "Epoch 00009: val_accuracy improved from 0.99464 to 0.99485, saving model to weights.h5\n",
      "Epoch 10/15\n",
      "454/454 [==============================] - 105s 232ms/step - loss: 0.0142 - accuracy: 0.9955 - val_loss: 0.0156 - val_accuracy: 0.9950\n",
      "\n",
      "Epoch 00010: val_accuracy improved from 0.99485 to 0.99500, saving model to weights.h5\n",
      "Epoch 11/15\n",
      "454/454 [==============================] - 117s 259ms/step - loss: 0.0127 - accuracy: 0.9958 - val_loss: 0.0151 - val_accuracy: 0.9951\n",
      "\n",
      "Epoch 00011: val_accuracy improved from 0.99500 to 0.99507, saving model to weights.h5\n",
      "Epoch 12/15\n",
      "454/454 [==============================] - 119s 262ms/step - loss: 0.0118 - accuracy: 0.9960 - val_loss: 0.0148 - val_accuracy: 0.9952\n",
      "\n",
      "Epoch 00012: val_accuracy improved from 0.99507 to 0.99516, saving model to weights.h5\n",
      "Epoch 13/15\n",
      "454/454 [==============================] - 117s 258ms/step - loss: 0.0111 - accuracy: 0.9962 - val_loss: 0.0147 - val_accuracy: 0.9952\n",
      "\n",
      "Epoch 00013: val_accuracy improved from 0.99516 to 0.99518, saving model to weights.h5\n",
      "Epoch 14/15\n",
      "454/454 [==============================] - 112s 247ms/step - loss: 0.0103 - accuracy: 0.9965 - val_loss: 0.0147 - val_accuracy: 0.9952\n",
      "\n",
      "Epoch 00014: val_accuracy did not improve from 0.99518\n",
      "Epoch 15/15\n",
      "454/454 [==============================] - 116s 256ms/step - loss: 0.0096 - accuracy: 0.9967 - val_loss: 0.0147 - val_accuracy: 0.9951\n",
      "\n",
      "Epoch 00015: val_accuracy did not improve from 0.99518\n"
     ]
    }
   ],
   "source": [
    "history = model.fit(X_train, Y_train, batch_size=128, epochs=15, validation_data=(X_validation, Y_validation)/\n",
    "                    ,callbacks = [model_save])"
   ]
  },
  {
   "cell_type": "code",
   "execution_count": 17,
   "id": "twenty-mobile",
   "metadata": {
    "execution": {
     "iopub.execute_input": "2021-10-27T17:11:04.650009Z",
     "iopub.status.busy": "2021-10-27T17:11:04.649073Z",
     "iopub.status.idle": "2021-10-27T17:11:05.510094Z",
     "shell.execute_reply": "2021-10-27T17:11:05.510702Z",
     "shell.execute_reply.started": "2021-10-27T17:04:40.731274Z"
    },
    "papermill": {
     "duration": 1.876779,
     "end_time": "2021-10-27T17:11:05.510898",
     "exception": false,
     "start_time": "2021-10-27T17:11:03.634119",
     "status": "completed"
    },
    "tags": []
   },
   "outputs": [
    {
     "name": "stdout",
     "output_type": "stream",
     "text": [
      "129/129 [==============================] - 1s 10ms/step - loss: 0.0150 - accuracy: 0.9951\n",
      "Loss: 0.015018032863736153,\n",
      "Accuracy: 0.9951155185699463\n"
     ]
    }
   ],
   "source": [
    "loss, accuracy = model.evaluate(X_test, Y_test, verbose = 1)\n",
    "print(\"Loss: {0},\\nAccuracy: {1}\".format(loss, accuracy))"
   ]
  },
  {
   "cell_type": "code",
   "execution_count": 18,
   "id": "stunning-camcorder",
   "metadata": {
    "execution": {
     "iopub.execute_input": "2021-10-27T17:11:07.573370Z",
     "iopub.status.busy": "2021-10-27T17:11:07.572704Z",
     "iopub.status.idle": "2021-10-27T17:11:07.980688Z",
     "shell.execute_reply": "2021-10-27T17:11:07.979989Z",
     "shell.execute_reply.started": "2021-10-27T17:04:41.629573Z"
    },
    "papermill": {
     "duration": 1.44194,
     "end_time": "2021-10-27T17:11:07.980821",
     "exception": false,
     "start_time": "2021-10-27T17:11:06.538881",
     "status": "completed"
    },
    "tags": []
   },
   "outputs": [
    {
     "name": "stdout",
     "output_type": "stream",
     "text": [
      "dict_keys(['loss', 'accuracy', 'val_loss', 'val_accuracy'])\n"
     ]
    },
    {
     "data": {
      "image/png": "[encoded data removed]",
      "text/plain": [
       "<Figure size 432x288 with 1 Axes>"
      ]
     },
     "metadata": {
      "needs_background": "light"
     },
     "output_type": "display_data"
    },
    {
     "data": {
      "image/png": "[encoded data removed]",
      "text/plain": [
       "<Figure size 432x288 with 1 Axes>"
      ]
     },
     "metadata": {
      "needs_background": "light"
     },
     "output_type": "display_data"
    }
   ],
   "source": [
    "print(history.history.keys())\n",
    "plt.axes().set(facecolor =\"white\")\n",
    "plt.plot(history.history['accuracy'],color='c')\n",
    "plt.plot(history.history['val_accuracy'],color='m')\n",
    "plt.title('model accuracy').set_color('white')\n",
    "plt.ylabel('accuracy').set_color('white')\n",
    "plt.xlabel('epoch').set_color('white')\n",
    "plt.legend(['train', 'validation'], loc='upper left')\n",
    "\n",
    "plt.show()\n",
    "\n",
    "plt.axes().set(facecolor =\"white\")\n",
    "plt.plot(history.history['loss'])\n",
    "plt.plot(history.history['val_loss'])\n",
    "plt.legend(['train', 'validation'], loc='upper left')\n",
    "plt.title('model loss').set_color('white')\n",
    "plt.ylabel('loss').set_color('white')\n",
    "plt.xlabel('epoch').set_color('white')\n",
    "plt.show()"
   ]
  },
  {
   "cell_type": "code",
   "execution_count": 19,
   "id": "trying-color",
   "metadata": {
    "execution": {
     "iopub.execute_input": "2021-10-27T17:11:10.506085Z",
     "iopub.status.busy": "2021-10-27T17:11:10.505047Z",
     "iopub.status.idle": "2021-10-27T17:11:10.507083Z",
     "shell.execute_reply": "2021-10-27T17:11:10.507519Z",
     "shell.execute_reply.started": "2021-10-27T17:04:42.080269Z"
    },
    "papermill": {
     "duration": 1.420678,
     "end_time": "2021-10-27T17:11:10.507664",
     "exception": false,
     "start_time": "2021-10-27T17:11:09.086986",
     "status": "completed"
    },
    "tags": []
   },
   "outputs": [],
   "source": [
    "def generate_POS(orig_sentence):\n",
    "    orig_sentence = [orig_sentence.split(\" \")]\n",
    "    sentence = word_tokenizer.texts_to_sequences(orig_sentence)\n",
    "    sentence = pad_sequences(sentence, maxlen=max_length, truncating=trunc_type, padding=pad_type)\n",
    "    \n",
    "    predict_x=model.predict(sentence[0]) \n",
    "    pos = []\n",
    "    for i in range(len(orig_sentence[0])):\n",
    "        index = np.argmax(predict_x[i], axis=1)\n",
    "        pos.append(TAGS[index[0]].upper())\n",
    "        \n",
    "    return list(zip(orig_sentence[0],pos))"
   ]
  },
  {
   "cell_type": "code",
   "execution_count": 20,
   "id": "directed-mixture",
   "metadata": {
    "execution": {
     "iopub.execute_input": "2021-10-27T17:11:12.808514Z",
     "iopub.status.busy": "2021-10-27T17:11:12.806787Z",
     "iopub.status.idle": "2021-10-27T17:11:12.811697Z",
     "shell.execute_reply": "2021-10-27T17:11:12.810381Z",
     "shell.execute_reply.started": "2021-10-27T17:04:42.088859Z"
    },
    "papermill": {
     "duration": 1.278605,
     "end_time": "2021-10-27T17:11:12.811857",
     "exception": false,
     "start_time": "2021-10-27T17:11:11.533252",
     "status": "completed"
    },
    "tags": []
   },
   "outputs": [
    {
     "name": "stdout",
     "output_type": "stream",
     "text": [
      "{1: 'noun',\n",
      " 2: 'verb',\n",
      " 3: '.',\n",
      " 4: 'adp',\n",
      " 5: 'det',\n",
      " 6: 'adj',\n",
      " 7: 'adv',\n",
      " 8: 'pron',\n",
      " 9: 'conj',\n",
      " 10: 'prt',\n",
      " 11: 'num',\n",
      " 12: 'x'}\n"
     ]
    }
   ],
   "source": [
    "pprint.pprint(TAGS)"
   ]
  },
  {
   "cell_type": "code",
   "execution_count": null,
   "id": "solved-principal",
   "metadata": {
    "execution": {
     "iopub.execute_input": "2021-10-27T17:11:14.866572Z",
     "iopub.status.busy": "2021-10-27T17:11:14.864704Z",
     "iopub.status.idle": "2021-10-27T17:11:14.869105Z",
     "shell.execute_reply": "2021-10-27T17:11:14.868484Z",
     "shell.execute_reply.started": "2021-10-27T17:04:42.103201Z"
    },
    "papermill": {
     "duration": 1.025246,
     "end_time": "2021-10-27T17:11:14.869256",
     "exception": false,
     "start_time": "2021-10-27T17:11:13.844010",
     "status": "completed"
    },
    "tags": []
   },
   "outputs": [],
   "source": [
    "sent = \" \".join(X[101])\n",
    "print(sent)"
   ]
  },
  {
   "cell_type": "code",
   "execution_count": null,
   "id": "boxed-cleaning",
   "metadata": {
    "execution": {
     "iopub.execute_input": "2021-10-27T17:11:16.900951Z",
     "iopub.status.busy": "2021-10-27T17:11:16.900125Z",
     "iopub.status.idle": "2021-10-27T17:11:17.293131Z",
     "shell.execute_reply": "2021-10-27T17:11:17.293586Z",
     "shell.execute_reply.started": "2021-10-27T17:04:42.115317Z"
    },
    "papermill": {
     "duration": 1.410641,
     "end_time": "2021-10-27T17:11:17.293752",
     "exception": false,
     "start_time": "2021-10-27T17:11:15.883111",
     "status": "completed"
    },
    "tags": []
   },
   "outputs": [],
   "source": [
    "generate_POS(sent)"
   ]
  },
  {
   "cell_type": "code",
   "execution_count": 31,
   "id": "earned-zambia",
   "metadata": {
    "execution": {
     "iopub.execute_input": "2021-10-27T17:11:19.367154Z",
     "iopub.status.busy": "2021-10-27T17:11:19.366264Z",
     "iopub.status.idle": "2021-10-27T17:11:19.418979Z",
     "shell.execute_reply": "2021-10-27T17:11:19.419468Z",
     "shell.execute_reply.started": "2021-10-27T17:04:42.522275Z"
    },
    "papermill": {
     "duration": 1.074164,
     "end_time": "2021-10-27T17:11:19.419624",
     "exception": false,
     "start_time": "2021-10-27T17:11:18.345460",
     "status": "completed"
    },
    "tags": []
   },
   "outputs": [
    {
     "data": {
      "text/plain": [
       "[('John', 'NOUN'),\n",
       " ('goes', 'VERB'),\n",
       " ('swimming', 'VERB'),\n",
       " ('twice', 'ADV'),\n",
       " ('a', 'DET'),\n",
       " ('week', 'NOUN')]"
      ]
     },
     "execution_count": 31,
     "metadata": {},
     "output_type": "execute_result"
    }
   ],
   "source": [
    "generate_POS(\"John goes swimming twice a week\")"
   ]
  },
  {
   "cell_type": "code",
   "execution_count": 32,
   "id": "minute-discretion",
   "metadata": {
    "execution": {
     "iopub.execute_input": "2021-10-27T17:11:21.458937Z",
     "iopub.status.busy": "2021-10-27T17:11:21.458278Z",
     "iopub.status.idle": "2021-10-27T17:11:21.578593Z",
     "shell.execute_reply": "2021-10-27T17:11:21.578075Z",
     "shell.execute_reply.started": "2021-10-27T17:04:42.578340Z"
    },
    "papermill": {
     "duration": 1.143201,
     "end_time": "2021-10-27T17:11:21.578729",
     "exception": false,
     "start_time": "2021-10-27T17:11:20.435528",
     "status": "completed"
    },
    "tags": []
   },
   "outputs": [
    {
     "data": {
      "text/plain": [
       "[('John', 'NOUN'),\n",
       " ('goes', 'VERB'),\n",
       " ('swimming', 'VERB'),\n",
       " ('twice', 'ADV'),\n",
       " ('a', 'DET'),\n",
       " ('week', 'NOUN')]"
      ]
     },
     "execution_count": 32,
     "metadata": {},
     "output_type": "execute_result"
    }
   ],
   "source": [
    "from nltk.tag import pos_tag\n",
    "from nltk.tokenize import word_tokenize\n",
    "\n",
    "pos_tag(word_tokenize(\"John goes swimming twice a week\"), tagset='universal')"
   ]
  },
  {
   "cell_type": "code",
   "execution_count": 35,
   "id": "moving-member",
   "metadata": {
    "execution": {
     "iopub.execute_input": "2021-10-27T17:11:28.068683Z",
     "iopub.status.busy": "2021-10-27T17:11:28.067829Z",
     "iopub.status.idle": "2021-10-27T17:11:28.118445Z",
     "shell.execute_reply": "2021-10-27T17:11:28.118003Z",
     "shell.execute_reply.started": "2021-10-27T17:04:42.774388Z"
    },
    "papermill": {
     "duration": 1.096432,
     "end_time": "2021-10-27T17:11:28.118565",
     "exception": false,
     "start_time": "2021-10-27T17:11:27.022133",
     "status": "completed"
    },
    "tags": []
   },
   "outputs": [
    {
     "data": {
      "text/plain": [
       "[('An', 'DET'),\n",
       " ('apple', 'NOUN'),\n",
       " ('a', 'DET'),\n",
       " ('day', 'NOUN'),\n",
       " ('keeps', 'VERB'),\n",
       " ('the', 'DET'),\n",
       " ('doctor', 'NOUN'),\n",
       " ('away', 'ADV')]"
      ]
     },
     "execution_count": 35,
     "metadata": {},
     "output_type": "execute_result"
    }
   ],
   "source": [
    "generate_POS(\"An apple a day keeps the doctor away\")"
   ]
  },
  {
   "cell_type": "code",
   "execution_count": 36,
   "id": "official-permission",
   "metadata": {
    "execution": {
     "iopub.execute_input": "2021-10-27T17:11:30.159335Z",
     "iopub.status.busy": "2021-10-27T17:11:30.156515Z",
     "iopub.status.idle": "2021-10-27T17:11:30.161877Z",
     "shell.execute_reply": "2021-10-27T17:11:30.162312Z",
     "shell.execute_reply.started": "2021-10-27T17:04:42.840680Z"
    },
    "papermill": {
     "duration": 1.028758,
     "end_time": "2021-10-27T17:11:30.162467",
     "exception": false,
     "start_time": "2021-10-27T17:11:29.133709",
     "status": "completed"
    },
    "tags": []
   },
   "outputs": [
    {
     "data": {
      "text/plain": [
       "[('An', 'DET'),\n",
       " ('apple', 'NOUN'),\n",
       " ('a', 'DET'),\n",
       " ('day', 'NOUN'),\n",
       " ('keeps', 'VERB'),\n",
       " ('the', 'DET'),\n",
       " ('doctor', 'NOUN'),\n",
       " ('away', 'ADV')]"
      ]
     },
     "execution_count": 36,
     "metadata": {},
     "output_type": "execute_result"
    }
   ],
   "source": [
    "pos_tag(word_tokenize(\"An apple a day keeps the doctor away\"), tagset='universal')"
   ]
  },
  {
   "cell_type": "code",
   "execution_count": null,
   "id": "eleven-portsmouth",
   "metadata": {
    "papermill": {
     "duration": 1.064368,
     "end_time": "2021-10-27T17:11:32.243254",
     "exception": false,
     "start_time": "2021-10-27T17:11:31.178886",
     "status": "completed"
    },
    "tags": []
   },
   "outputs": [],
   "source": []
  },
  {
   "cell_type": "code",
   "execution_count": null,
   "id": "addressed-homeless",
   "metadata": {},
   "outputs": [],
   "source": []
  }
 ],
 "metadata": {
  "kernelspec": {
   "display_name": "Python 3",
   "language": "python",
   "name": "python3"
  },
  "language_info": {
   "codemirror_mode": {
    "name": "ipython",
    "version": 3
   },
   "file_extension": ".py",
   "mimetype": "text/x-python",
   "name": "python",
   "nbconvert_exporter": "python",
   "pygments_lexer": "ipython3",
   "version": "3.8.8"
  },
  "papermill": {
   "default_parameters": {},
   "duration": 332.977016,
   "end_time": "2021-10-27T17:11:36.665552",
   "environment_variables": {},
   "exception": null,
   "input_path": "__notebook__.ipynb",
   "output_path": "__notebook__.ipynb",
   "parameters": {},
   "start_time": "2021-10-27T17:06:03.688536",
   "version": "2.3.3"
  }
 },
 "nbformat": 4,
 "nbformat_minor": 5
}
